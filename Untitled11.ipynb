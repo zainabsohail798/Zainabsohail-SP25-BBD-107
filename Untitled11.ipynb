{
 "cells": [
  {
   "cell_type": "markdown",
   "id": "3ac1cd9b",
   "metadata": {},
   "source": [
    "# Question 1\n",
    "## LIST ITERATION\n",
    " # A\n",
    "   ## LIST OF MOVIES "
   ]
  },
  {
   "cell_type": "code",
   "execution_count": 10,
   "id": "09494c80",
   "metadata": {},
   "outputs": [
    {
     "name": "stdout",
     "output_type": "stream",
     "text": [
      "['Escaperoom', 'Anaconda', 'Birdbox']\n"
     ]
    }
   ],
   "source": [
    "movies=['Escaperoom','Anaconda','Birdbox']\n",
    "print(movies)"
   ]
  },
  {
   "cell_type": "markdown",
   "id": "d1086246",
   "metadata": {},
   "source": [
    "# B\n",
    " ## ITERATE OVER THE LIST"
   ]
  },
  {
   "cell_type": "code",
   "execution_count": 11,
   "id": "246dfefa",
   "metadata": {},
   "outputs": [
    {
     "name": "stdout",
     "output_type": "stream",
     "text": [
      "Escaperoom\n",
      "Anaconda\n",
      "Birdbox\n"
     ]
    }
   ],
   "source": [
    "for movie in movies:\n",
    "    print(movie)"
   ]
  },
  {
   "cell_type": "markdown",
   "id": "ea7b5bcd",
   "metadata": {},
   "source": [
    "# C\n",
    " ## MODIFY THE LOOP\n"
   ]
  },
  {
   "cell_type": "code",
   "execution_count": 13,
   "id": "b27686ef",
   "metadata": {},
   "outputs": [
    {
     "name": "stdout",
     "output_type": "stream",
     "text": [
      "Index 0: Escaperoom\n",
      "Index 1: Anaconda\n",
      "Index 2: Birdbox\n"
     ]
    }
   ],
   "source": [
    "for i in range(len(movies)):\n",
    "    print(f\"Index {i}: {movies[i]}\")"
   ]
  },
  {
   "cell_type": "markdown",
   "id": "4262aa19",
   "metadata": {},
   "source": [
    "# Question 2\n",
    " ## STRING  ITERATION "
   ]
  },
  {
   "cell_type": "markdown",
   "id": "0bee74ea",
   "metadata": {},
   "source": [
    "# A \n",
    "## STRING VARIABLE"
   ]
  },
  {
   "cell_type": "code",
   "execution_count": 18,
   "id": "3f4f92af",
   "metadata": {},
   "outputs": [
    {
     "name": "stdout",
     "output_type": "stream",
     "text": [
      "Zainab Sohail\n"
     ]
    }
   ],
   "source": [
    "full_name='Zainab Sohail'\n",
    "print(full_name)"
   ]
  },
  {
   "cell_type": "markdown",
   "id": "bb762b69",
   "metadata": {},
   "source": [
    "# B\n",
    "## ITERATE OVER THE STRING"
   ]
  },
  {
   "cell_type": "code",
   "execution_count": 21,
   "id": "9bbb8d5b",
   "metadata": {},
   "outputs": [
    {
     "name": "stdout",
     "output_type": "stream",
     "text": [
      "Z\n",
      "a\n",
      "i\n",
      "n\n",
      "a\n",
      "b\n",
      " \n",
      "S\n",
      "o\n",
      "h\n",
      "a\n",
      "i\n",
      "l\n"
     ]
    }
   ],
   "source": [
    "for char in full_name:\n",
    "    print(char)"
   ]
  },
  {
   "cell_type": "markdown",
   "id": "3d74b959",
   "metadata": {},
   "source": [
    "# C\n",
    "## COUNT THE VOWELS\n"
   ]
  },
  {
   "cell_type": "code",
   "execution_count": 24,
   "id": "8a1c4b71",
   "metadata": {},
   "outputs": [
    {
     "name": "stdout",
     "output_type": "stream",
     "text": [
      "Number of vowels: 6\n"
     ]
    }
   ],
   "source": [
    "full_name = \"Zainab Sohail\"\n",
    "vowel_count = 0\n",
    "for char in full_name:\n",
    "    if char.lower()in 'aeiou':\n",
    "        vowel_count += 1\n",
    "print(\"Number of vowels:\", vowel_count)"
   ]
  },
  {
   "cell_type": "code",
   "execution_count": null,
   "id": "32731321",
   "metadata": {},
   "outputs": [],
   "source": []
  }
 ],
 "metadata": {
  "kernelspec": {
   "display_name": "Python 3 (ipykernel)",
   "language": "python",
   "name": "python3"
  },
  "language_info": {
   "codemirror_mode": {
    "name": "ipython",
    "version": 3
   },
   "file_extension": ".py",
   "mimetype": "text/x-python",
   "name": "python",
   "nbconvert_exporter": "python",
   "pygments_lexer": "ipython3",
   "version": "3.9.7"
  }
 },
 "nbformat": 4,
 "nbformat_minor": 5
}
